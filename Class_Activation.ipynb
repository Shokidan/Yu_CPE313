{
  "nbformat": 4,
  "nbformat_minor": 0,
  "metadata": {
    "colab": {
      "provenance": []
    },
    "kernelspec": {
      "name": "python3",
      "display_name": "Python 3"
    },
    "language_info": {
      "name": "python"
    }
  },
  "cells": [
    {
      "cell_type": "code",
      "execution_count": 24,
      "metadata": {
        "id": "WGgmW5AvKqD9"
      },
      "outputs": [],
      "source": [
        "import numpy as np\n",
        "\n",
        "class neuron():\n",
        "  def __init__(self,input,weight):\n",
        "    self.input=np.array(input)\n",
        "    self.weight= np.array(weight)\n",
        "\n",
        "    self.sum=(sum(self.input*self.weight)/(self.input.size))\n",
        "\n",
        "  # Activation Function\n",
        "  def relu(self):\n",
        "    return max(0.0, self.sum)\n",
        "    print(relu)"
      ]
    },
    {
      "cell_type": "code",
      "source": [
        "input = [1,2,3,4,5]\n",
        "weight= [5,4,3,2,1]\n",
        "\n",
        "single=neuron(input,weight)\n",
        "single.relu()"
      ],
      "metadata": {
        "colab": {
          "base_uri": "https://localhost:8080/"
        },
        "id": "zEtVPxBrSKdm",
        "outputId": "cdc35bfe-70bd-4809-81c4-573797a9d8ea"
      },
      "execution_count": 25,
      "outputs": [
        {
          "output_type": "execute_result",
          "data": {
            "text/plain": [
              "7.0"
            ]
          },
          "metadata": {},
          "execution_count": 25
        }
      ]
    }
  ]
}