{
  "cells": [
    {
      "cell_type": "markdown",
      "id": "frozen-passport",
      "metadata": {
        "id": "frozen-passport"
      },
      "source": [
        "# Activity 1.3 : Regularization"
      ]
    },
    {
      "cell_type": "markdown",
      "id": "downtown-relay",
      "metadata": {
        "id": "downtown-relay"
      },
      "source": [
        "#### Objective(s):\n",
        "\n",
        "This activity aims to demonstrate how to apply  regularization in neural networks"
      ]
    },
    {
      "cell_type": "markdown",
      "id": "weird-journal",
      "metadata": {
        "id": "weird-journal"
      },
      "source": [
        "#### Intended Learning Outcomes (ILOs):\n",
        "* Demonstrate how to build and train neural networks with regularization\n",
        "* Demonstrate how to visualize the model with regularization\n",
        "* Evaluate the result of model with regularization\n"
      ]
    },
    {
      "cell_type": "markdown",
      "id": "returning-harvard",
      "metadata": {
        "id": "returning-harvard"
      },
      "source": [
        "#### Resources:\n",
        "* Jupyter Notebook\n",
        "* MNIST\n"
      ]
    },
    {
      "cell_type": "markdown",
      "id": "virgin-webcam",
      "metadata": {
        "id": "virgin-webcam"
      },
      "source": [
        "#### Procedures\n",
        "Load the necessary libraries"
      ]
    },
    {
      "cell_type": "code",
      "execution_count": 2,
      "id": "changing-emergency",
      "metadata": {
        "id": "changing-emergency"
      },
      "outputs": [],
      "source": [
        "from __future__ import print_function\n",
        "\n",
        "import keras\n",
        "from keras.datasets import mnist\n",
        "from keras.models import Sequential\n",
        "from keras.layers import Dense, Dropout\n",
        "from keras.optimizers import RMSprop\n",
        "\n",
        "import numpy as np\n",
        "import matplotlib.pyplot as plt\n",
        "%matplotlib inline"
      ]
    },
    {
      "cell_type": "markdown",
      "id": "central-drama",
      "metadata": {
        "id": "central-drama"
      },
      "source": [
        "Load the data, shuffled and split between train and test sets"
      ]
    },
    {
      "cell_type": "code",
      "execution_count": 3,
      "id": "egyptian-driving",
      "metadata": {
        "id": "egyptian-driving",
        "colab": {
          "base_uri": "https://localhost:8080/"
        },
        "outputId": "bbda9b7f-ab23-4a7a-f8b2-d207ec701494"
      },
      "outputs": [
        {
          "output_type": "stream",
          "name": "stdout",
          "text": [
            "Downloading data from https://storage.googleapis.com/tensorflow/tf-keras-datasets/mnist.npz\n",
            "11490434/11490434 [==============================] - 0s 0us/step\n"
          ]
        }
      ],
      "source": [
        "(x_train, y_train), (x_test, y_test) = mnist.load_data()"
      ]
    },
    {
      "cell_type": "markdown",
      "id": "creative-cricket",
      "metadata": {
        "id": "creative-cricket"
      },
      "source": [
        "Get the size of the sample train data"
      ]
    },
    {
      "cell_type": "code",
      "execution_count": 4,
      "id": "instrumental-funds",
      "metadata": {
        "id": "instrumental-funds",
        "colab": {
          "base_uri": "https://localhost:8080/"
        },
        "outputId": "14f43a73-21f6-49a6-ddbe-54a6b3317418"
      },
      "outputs": [
        {
          "output_type": "execute_result",
          "data": {
            "text/plain": [
              "(28, 28)"
            ]
          },
          "metadata": {},
          "execution_count": 4
        }
      ],
      "source": [
        "x_train[0].shape"
      ]
    },
    {
      "cell_type": "markdown",
      "id": "atmospheric-carol",
      "metadata": {
        "id": "atmospheric-carol"
      },
      "source": [
        "Check the sample train data"
      ]
    },
    {
      "cell_type": "code",
      "execution_count": 5,
      "id": "mental-johnston",
      "metadata": {
        "id": "mental-johnston",
        "colab": {
          "base_uri": "https://localhost:8080/",
          "height": 68
        },
        "outputId": "cae95dfd-f358-4718-9bd0-4b46bb0ce693"
      },
      "outputs": [
        {
          "output_type": "execute_result",
          "data": {
            "text/plain": [
              "array([[  0,   0,   0,   0,   0,   0,   0,   0,   0,   0,   0,   0,   0,\n",
              "          0,   0,   0,   0,   0,   0,   0,   0,   0,   0,   0,   0,   0,\n",
              "          0,   0],\n",
              "       [  0,   0,   0,   0,   0,   0,   0,   0,   0,   0,   0,   0,   0,\n",
              "          0,   0,   0,   0,   0,   0,   0,   0,   0,   0,   0,   0,   0,\n",
              "          0,   0],\n",
              "       [  0,   0,   0,   0,   0,   0,   0,   0,   0,   0,   0,   0,   0,\n",
              "          0,   0,   0,   0,   0,   0,   0,   0,   0,   0,   0,   0,   0,\n",
              "          0,   0],\n",
              "       [  0,   0,   0,   0,   0,   0,   0,   0,   0,   0,   0,   0,   0,\n",
              "          0,   0,   0,   0,   0,   0,   0,   0,   0,   0,   0,   0,   0,\n",
              "          0,   0],\n",
              "       [  0,   0,   0,   0,   0,   0,   0,   0,   0,   0,   0,   0,   0,\n",
              "          0,   0,   0,   0,   0,   0,   0,   0,   0,   0,   0,   0,   0,\n",
              "          0,   0],\n",
              "       [  0,   0,   0,   0,   0,   0,   0,   0,   0,   0,   0,  87, 138,\n",
              "        170, 253, 201, 244, 212, 222, 138,  86,  22,   0,   0,   0,   0,\n",
              "          0,   0],\n",
              "       [  0,   0,   0,   0,   0,   0,   0,   0,   0,   0,  95, 253, 252,\n",
              "        252, 252, 252, 253, 252, 252, 252, 252, 245,  80,   0,   0,   0,\n",
              "          0,   0],\n",
              "       [  0,   0,   0,   0,   0,   0,   0,   0,   0,  68, 246, 205,  69,\n",
              "         69,  69,  69,  69,  69,  69,  69, 205, 253, 240,  50,   0,   0,\n",
              "          0,   0],\n",
              "       [  0,   0,   0,   0,   0,   0,   0,   0,   0, 187, 252, 218,  34,\n",
              "          0,   0,   0,   0,   0,   0,   0, 116, 253, 252,  69,   0,   0,\n",
              "          0,   0],\n",
              "       [  0,   0,   0,   0,   0,   0,   0,   0, 116, 248, 252, 253,  92,\n",
              "          0,   0,   0,   0,   0,   0,  95, 230, 253, 157,   6,   0,   0,\n",
              "          0,   0],\n",
              "       [  0,   0,   0,   0,   0,   0,   0,   0, 116, 249, 253, 189,  42,\n",
              "          0,   0,   0,   0,  36, 170, 253, 243, 158,   0,   0,   0,   0,\n",
              "          0,   0],\n",
              "       [  0,   0,   0,   0,   0,   0,   0,   0,   0, 133, 252, 245, 140,\n",
              "         34,   0,   0,  57, 219, 252, 235,  60,   0,   0,   0,   0,   0,\n",
              "          0,   0],\n",
              "       [  0,   0,   0,   0,   0,   0,   0,   0,   0,  25, 205, 253, 252,\n",
              "        234, 184, 184, 253, 240, 100,  44,   0,   0,   0,   0,   0,   0,\n",
              "          0,   0],\n",
              "       [  0,   0,   0,   0,   0,   0,   0,   0,   0,   0,  21, 161, 219,\n",
              "        252, 252, 252, 234,  37,   0,   0,   0,   0,   0,   0,   0,   0,\n",
              "          0,   0],\n",
              "       [  0,   0,   0,   0,   0,   0,   0,   0,   0,   0,   0,  11, 203,\n",
              "        252, 252, 252, 251, 135,   0,   0,   0,   0,   0,   0,   0,   0,\n",
              "          0,   0],\n",
              "       [  0,   0,   0,   0,   0,   0,   0,   0,   0,   9,  76, 255, 253,\n",
              "        205, 168, 220, 255, 253, 137,   5,   0,   0,   0,   0,   0,   0,\n",
              "          0,   0],\n",
              "       [  0,   0,   0,   0,   0,   0,   0,   0,   0, 114, 252, 249, 132,\n",
              "         25,   0,   0, 180, 252, 252,  45,   0,   0,   0,   0,   0,   0,\n",
              "          0,   0],\n",
              "       [  0,   0,   0,   0,   0,   0,   0,   0,  51, 220, 252, 199,   0,\n",
              "          0,   0,   0,  38, 186, 252, 154,   7,   0,   0,   0,   0,   0,\n",
              "          0,   0],\n",
              "       [  0,   0,   0,   0,   0,   0,   0,   0, 184, 252, 252,  21,   0,\n",
              "          0,   0,   0,   0,  67, 252, 252,  22,   0,   0,   0,   0,   0,\n",
              "          0,   0],\n",
              "       [  0,   0,   0,   0,   0,   0,   0,   0, 184, 252, 200,   0,   0,\n",
              "          0,   0,   0,   0,  47, 252, 252,  22,   0,   0,   0,   0,   0,\n",
              "          0,   0],\n",
              "       [  0,   0,   0,   0,   0,   0,   0,   0, 185, 253, 201,   0,   0,\n",
              "          0,   0,   0,   3, 118, 253, 245,  21,   0,   0,   0,   0,   0,\n",
              "          0,   0],\n",
              "       [  0,   0,   0,   0,   0,   0,   0,   0, 163, 252, 252,   0,   0,\n",
              "          0,   0,   0,  97, 252, 252,  87,   0,   0,   0,   0,   0,   0,\n",
              "          0,   0],\n",
              "       [  0,   0,   0,   0,   0,   0,   0,   0,  51, 240, 252, 123,  70,\n",
              "         70, 112, 184, 222, 252, 170,  13,   0,   0,   0,   0,   0,   0,\n",
              "          0,   0],\n",
              "       [  0,   0,   0,   0,   0,   0,   0,   0,   0, 165, 252, 253, 252,\n",
              "        252, 252, 252, 245, 139,  13,   0,   0,   0,   0,   0,   0,   0,\n",
              "          0,   0],\n",
              "       [  0,   0,   0,   0,   0,   0,   0,   0,   0,   9,  75, 253, 252,\n",
              "        221, 137, 137,  21,   0,   0,   0,   0,   0,   0,   0,   0,   0,\n",
              "          0,   0],\n",
              "       [  0,   0,   0,   0,   0,   0,   0,   0,   0,   0,   0,   0,   0,\n",
              "          0,   0,   0,   0,   0,   0,   0,   0,   0,   0,   0,   0,   0,\n",
              "          0,   0],\n",
              "       [  0,   0,   0,   0,   0,   0,   0,   0,   0,   0,   0,   0,   0,\n",
              "          0,   0,   0,   0,   0,   0,   0,   0,   0,   0,   0,   0,   0,\n",
              "          0,   0],\n",
              "       [  0,   0,   0,   0,   0,   0,   0,   0,   0,   0,   0,   0,   0,\n",
              "          0,   0,   0,   0,   0,   0,   0,   0,   0,   0,   0,   0,   0,\n",
              "          0,   0]], dtype=uint8)"
            ],
            "text/html": [
              "<style>\n",
              "      .ndarray_repr .ndarray_raw_data {\n",
              "        display: none;\n",
              "      }\n",
              "      .ndarray_repr.show_array .ndarray_raw_data {\n",
              "        display: block;\n",
              "      }\n",
              "      .ndarray_repr.show_array .ndarray_image_preview {\n",
              "        display: none;\n",
              "      }\n",
              "      </style>\n",
              "      <div id=\"id-c7f6306b-79da-417c-9457-84d0463716be\" class=\"ndarray_repr\"><pre>ndarray (28, 28) <button style=\"padding: 0 2px;\">show data</button></pre><img src=\"data:image/png;base64,iVBORw0KGgoAAAANSUhEUgAAABwAAAAcCAAAAABXZoBIAAABJElEQVR4nM2RO0sDURCFz/qIRE0lK6QTUQsfGEglWKnEQgvBIo0ggj9ARFCwVXTRXyAoiAgSrMRiEQQ7Cze2FnlgZbGxCISAi2dYiyyJufeWFk51mG/mMIcB/llZv3Q2PbTqTbz33npPvjq3LiQpJFlfUTYX7t72Inmcqs29Auhqwt1YolRuyOlU/0Cb6c4XZS3y/5DzWDsM5HEcAEZyUrtQ7zlk/XQYmCmwMquFSuaFvutKdXPSENm+LJD0Rw0IQN8Lye8jE4ovh5K/KYbidOtwm8FBErgnpzSWLvIZAMYeeNajQpe0AQDz5GDU62hhrwIA+Gx1mtCyGj/oXLSCULW9IgEAG2RWP6jK/Uxmyy0zl9CjXEd/PjEwxJeEJcexDeiP6wefW3R9pZ+EHwAAAABJRU5ErkJggg==\" class=\"ndarray_image_preview\" /><pre class=\"ndarray_raw_data\">array([[  0,   0,   0,   0,   0,   0,   0,   0,   0,   0,   0,   0,   0,\n",
              "          0,   0,   0,   0,   0,   0,   0,   0,   0,   0,   0,   0,   0,\n",
              "          0,   0],\n",
              "       [  0,   0,   0,   0,   0,   0,   0,   0,   0,   0,   0,   0,   0,\n",
              "          0,   0,   0,   0,   0,   0,   0,   0,   0,   0,   0,   0,   0,\n",
              "          0,   0],\n",
              "       [  0,   0,   0,   0,   0,   0,   0,   0,   0,   0,   0,   0,   0,\n",
              "          0,   0,   0,   0,   0,   0,   0,   0,   0,   0,   0,   0,   0,\n",
              "          0,   0],\n",
              "       [  0,   0,   0,   0,   0,   0,   0,   0,   0,   0,   0,   0,   0,\n",
              "          0,   0,   0,   0,   0,   0,   0,   0,   0,   0,   0,   0,   0,\n",
              "          0,   0],\n",
              "       [  0,   0,   0,   0,   0,   0,   0,   0,   0,   0,   0,   0,   0,\n",
              "          0,   0,   0,   0,   0,   0,   0,   0,   0,   0,   0,   0,   0,\n",
              "          0,   0],\n",
              "       [  0,   0,   0,   0,   0,   0,   0,   0,   0,   0,   0,  87, 138,\n",
              "        170, 253, 201, 244, 212, 222, 138,  86,  22,   0,   0,   0,   0,\n",
              "          0,   0],\n",
              "       [  0,   0,   0,   0,   0,   0,   0,   0,   0,   0,  95, 253, 252,\n",
              "        252, 252, 252, 253, 252, 252, 252, 252, 245,  80,   0,   0,   0,\n",
              "          0,   0],\n",
              "       [  0,   0,   0,   0,   0,   0,   0,   0,   0,  68, 246, 205,  69,\n",
              "         69,  69,  69,  69,  69,  69,  69, 205, 253, 240,  50,   0,   0,\n",
              "          0,   0],\n",
              "       [  0,   0,   0,   0,   0,   0,   0,   0,   0, 187, 252, 218,  34,\n",
              "          0,   0,   0,   0,   0,   0,   0, 116, 253, 252,  69,   0,   0,\n",
              "          0,   0],\n",
              "       [  0,   0,   0,   0,   0,   0,   0,   0, 116, 248, 252, 253,  92,\n",
              "          0,   0,   0,   0,   0,   0,  95, 230, 253, 157,   6,   0,   0,\n",
              "          0,   0],\n",
              "       [  0,   0,   0,   0,   0,   0,   0,   0, 116, 249, 253, 189,  42,\n",
              "          0,   0,   0,   0,  36, 170, 253, 243, 158,   0,   0,   0,   0,\n",
              "          0,   0],\n",
              "       [  0,   0,   0,   0,   0,   0,   0,   0,   0, 133, 252, 245, 140,\n",
              "         34,   0,   0,  57, 219, 252, 235,  60,   0,   0,   0,   0,   0,\n",
              "          0,   0],\n",
              "       [  0,   0,   0,   0,   0,   0,   0,   0,   0,  25, 205, 253, 252,\n",
              "        234, 184, 184, 253, 240, 100,  44,   0,   0,   0,   0,   0,   0,\n",
              "          0,   0],\n",
              "       [  0,   0,   0,   0,   0,   0,   0,   0,   0,   0,  21, 161, 219,\n",
              "        252, 252, 252, 234,  37,   0,   0,   0,   0,   0,   0,   0,   0,\n",
              "          0,   0],\n",
              "       [  0,   0,   0,   0,   0,   0,   0,   0,   0,   0,   0,  11, 203,\n",
              "        252, 252, 252, 251, 135,   0,   0,   0,   0,   0,   0,   0,   0,\n",
              "          0,   0],\n",
              "       [  0,   0,   0,   0,   0,   0,   0,   0,   0,   9,  76, 255, 253,\n",
              "        205, 168, 220, 255, 253, 137,   5,   0,   0,   0,   0,   0,   0,\n",
              "          0,   0],\n",
              "       [  0,   0,   0,   0,   0,   0,   0,   0,   0, 114, 252, 249, 132,\n",
              "         25,   0,   0, 180, 252, 252,  45,   0,   0,   0,   0,   0,   0,\n",
              "          0,   0],\n",
              "       [  0,   0,   0,   0,   0,   0,   0,   0,  51, 220, 252, 199,   0,\n",
              "          0,   0,   0,  38, 186, 252, 154,   7,   0,   0,   0,   0,   0,\n",
              "          0,   0],\n",
              "       [  0,   0,   0,   0,   0,   0,   0,   0, 184, 252, 252,  21,   0,\n",
              "          0,   0,   0,   0,  67, 252, 252,  22,   0,   0,   0,   0,   0,\n",
              "          0,   0],\n",
              "       [  0,   0,   0,   0,   0,   0,   0,   0, 184, 252, 200,   0,   0,\n",
              "          0,   0,   0,   0,  47, 252, 252,  22,   0,   0,   0,   0,   0,\n",
              "          0,   0],\n",
              "       [  0,   0,   0,   0,   0,   0,   0,   0, 185, 253, 201,   0,   0,\n",
              "          0,   0,   0,   3, 118, 253, 245,  21,   0,   0,   0,   0,   0,\n",
              "          0,   0],\n",
              "       [  0,   0,   0,   0,   0,   0,   0,   0, 163, 252, 252,   0,   0,\n",
              "          0,   0,   0,  97, 252, 252,  87,   0,   0,   0,   0,   0,   0,\n",
              "          0,   0],\n",
              "       [  0,   0,   0,   0,   0,   0,   0,   0,  51, 240, 252, 123,  70,\n",
              "         70, 112, 184, 222, 252, 170,  13,   0,   0,   0,   0,   0,   0,\n",
              "          0,   0],\n",
              "       [  0,   0,   0,   0,   0,   0,   0,   0,   0, 165, 252, 253, 252,\n",
              "        252, 252, 252, 245, 139,  13,   0,   0,   0,   0,   0,   0,   0,\n",
              "          0,   0],\n",
              "       [  0,   0,   0,   0,   0,   0,   0,   0,   0,   9,  75, 253, 252,\n",
              "        221, 137, 137,  21,   0,   0,   0,   0,   0,   0,   0,   0,   0,\n",
              "          0,   0],\n",
              "       [  0,   0,   0,   0,   0,   0,   0,   0,   0,   0,   0,   0,   0,\n",
              "          0,   0,   0,   0,   0,   0,   0,   0,   0,   0,   0,   0,   0,\n",
              "          0,   0],\n",
              "       [  0,   0,   0,   0,   0,   0,   0,   0,   0,   0,   0,   0,   0,\n",
              "          0,   0,   0,   0,   0,   0,   0,   0,   0,   0,   0,   0,   0,\n",
              "          0,   0],\n",
              "       [  0,   0,   0,   0,   0,   0,   0,   0,   0,   0,   0,   0,   0,\n",
              "          0,   0,   0,   0,   0,   0,   0,   0,   0,   0,   0,   0,   0,\n",
              "          0,   0]], dtype=uint8)</pre></div><script>\n",
              "      (() => {\n",
              "      const titles = ['show data', 'hide data'];\n",
              "      let index = 0\n",
              "      document.querySelector('#id-c7f6306b-79da-417c-9457-84d0463716be button').onclick = (e) => {\n",
              "        document.querySelector('#id-c7f6306b-79da-417c-9457-84d0463716be').classList.toggle('show_array');\n",
              "        index = (++index) % 2;\n",
              "        document.querySelector('#id-c7f6306b-79da-417c-9457-84d0463716be button').textContent = titles[index];\n",
              "        e.preventDefault();\n",
              "        e.stopPropagation();\n",
              "      }\n",
              "      })();\n",
              "    </script>"
            ]
          },
          "metadata": {},
          "execution_count": 5
        }
      ],
      "source": [
        "x_train[333]"
      ]
    },
    {
      "cell_type": "markdown",
      "id": "compact-disposal",
      "metadata": {
        "id": "compact-disposal"
      },
      "source": [
        "Check the corresponding label in the training set"
      ]
    },
    {
      "cell_type": "code",
      "execution_count": 6,
      "id": "cutting-gentleman",
      "metadata": {
        "id": "cutting-gentleman",
        "colab": {
          "base_uri": "https://localhost:8080/"
        },
        "outputId": "8d500230-3b07-4963-b59c-252456962b9b"
      },
      "outputs": [
        {
          "output_type": "execute_result",
          "data": {
            "text/plain": [
              "8"
            ]
          },
          "metadata": {},
          "execution_count": 6
        }
      ],
      "source": [
        "y_train[333]"
      ]
    },
    {
      "cell_type": "code",
      "execution_count": 7,
      "id": "tight-motivation",
      "metadata": {
        "id": "tight-motivation",
        "colab": {
          "base_uri": "https://localhost:8080/",
          "height": 447
        },
        "outputId": "db9add8e-b73d-4cf5-8bea-71d4d56a151c"
      },
      "outputs": [
        {
          "output_type": "execute_result",
          "data": {
            "text/plain": [
              "<matplotlib.image.AxesImage at 0x7a93e99544f0>"
            ]
          },
          "metadata": {},
          "execution_count": 7
        },
        {
          "output_type": "display_data",
          "data": {
            "text/plain": [
              "<Figure size 640x480 with 1 Axes>"
            ],
            "image/png": "[encoded data removed]"
          },
          "metadata": {}
        }
      ],
      "source": [
        "plt.imshow(x_train[333], cmap='Greys_r')"
      ]
    },
    {
      "cell_type": "markdown",
      "id": "brutal-young",
      "metadata": {
        "id": "brutal-young"
      },
      "source": [
        "Check the shape of the x_train and x_test"
      ]
    },
    {
      "cell_type": "code",
      "execution_count": 8,
      "id": "residential-rouge",
      "metadata": {
        "id": "residential-rouge",
        "colab": {
          "base_uri": "https://localhost:8080/"
        },
        "outputId": "8b22bb35-b4fc-4127-dbfe-4c9685544a75"
      },
      "outputs": [
        {
          "output_type": "stream",
          "name": "stdout",
          "text": [
            "(60000, 28, 28) train samples\n",
            "(10000, 28, 28) test samples\n"
          ]
        }
      ],
      "source": [
        "print(x_train.shape, 'train samples')\n",
        "print(x_test.shape, 'test samples')"
      ]
    },
    {
      "cell_type": "markdown",
      "id": "secret-parameter",
      "metadata": {
        "id": "secret-parameter"
      },
      "source": [
        "* Convert the x_train and x_test\n",
        "* Cast the numbers to floats\n",
        "* Normalize the inputs"
      ]
    },
    {
      "cell_type": "code",
      "execution_count": 9,
      "id": "intense-daisy",
      "metadata": {
        "id": "intense-daisy"
      },
      "outputs": [],
      "source": [
        "x_train = x_train.reshape(len(x_train), 28*28)\n",
        "x_test = x_test.reshape(len(x_test), 28*28)\n",
        "\n",
        "\n",
        "x_train = x_train.astype('float32')\n",
        "x_test = x_test.astype('float32')\n",
        "\n",
        "\n",
        "x_train /= 255\n",
        "x_test /= 255\n"
      ]
    },
    {
      "cell_type": "markdown",
      "id": "celtic-output",
      "metadata": {
        "id": "celtic-output"
      },
      "source": [
        "Convert class vectors to binary class matrices"
      ]
    },
    {
      "cell_type": "code",
      "execution_count": 10,
      "id": "confidential-incentive",
      "metadata": {
        "id": "confidential-incentive",
        "colab": {
          "base_uri": "https://localhost:8080/"
        },
        "outputId": "71e865f5-401a-41aa-d91d-6646769ab267"
      },
      "outputs": [
        {
          "output_type": "execute_result",
          "data": {
            "text/plain": [
              "array([0., 0., 0., 0., 0., 0., 0., 0., 1., 0.], dtype=float32)"
            ]
          },
          "metadata": {},
          "execution_count": 10
        }
      ],
      "source": [
        "num_classes = 10\n",
        "y_train = keras.utils.to_categorical(y_train, num_classes)\n",
        "y_test = keras.utils.to_categorical(y_test, num_classes)\n",
        "\n",
        "y_train[333]  # now the digit k is represented by a 1 in the kth entry (0-indexed) of the length 10 vector"
      ]
    },
    {
      "cell_type": "markdown",
      "id": "lightweight-walter",
      "metadata": {
        "id": "lightweight-walter"
      },
      "source": [
        "* Build the model with two hidden layers of size 512.\n",
        "* Use dropout of 0.2\n",
        "* Check the model summary"
      ]
    },
    {
      "cell_type": "code",
      "execution_count": 11,
      "id": "level-blair",
      "metadata": {
        "id": "level-blair"
      },
      "outputs": [],
      "source": [
        "model = Sequential()\n",
        "model.add(Dense(64, activation='relu', input_shape=(784,)))\n",
        "model.add(Dropout(0.2))\n",
        "model.add(Dense(64, activation='relu'))\n",
        "model.add(Dropout(0.2))\n",
        "model.add(Dense(10, activation='softmax'))"
      ]
    },
    {
      "cell_type": "code",
      "execution_count": 12,
      "id": "filled-class",
      "metadata": {
        "id": "filled-class",
        "colab": {
          "base_uri": "https://localhost:8080/"
        },
        "outputId": "25be33ca-ad41-42ad-9429-a114c646aba8"
      },
      "outputs": [
        {
          "output_type": "stream",
          "name": "stdout",
          "text": [
            "Model: \"sequential\"\n",
            "_________________________________________________________________\n",
            " Layer (type)                Output Shape              Param #   \n",
            "=================================================================\n",
            " dense (Dense)               (None, 64)                50240     \n",
            "                                                                 \n",
            " dropout (Dropout)           (None, 64)                0         \n",
            "                                                                 \n",
            " dense_1 (Dense)             (None, 64)                4160      \n",
            "                                                                 \n",
            " dropout_1 (Dropout)         (None, 64)                0         \n",
            "                                                                 \n",
            " dense_2 (Dense)             (None, 10)                650       \n",
            "                                                                 \n",
            "=================================================================\n",
            "Total params: 55050 (215.04 KB)\n",
            "Trainable params: 55050 (215.04 KB)\n",
            "Non-trainable params: 0 (0.00 Byte)\n",
            "_________________________________________________________________\n"
          ]
        }
      ],
      "source": [
        "model.summary()"
      ]
    },
    {
      "cell_type": "markdown",
      "id": "thrown-entry",
      "metadata": {
        "id": "thrown-entry"
      },
      "source": [
        "Compile the model using learning rate of 0.001 and optimizer of RMSprop"
      ]
    },
    {
      "cell_type": "code",
      "execution_count": 13,
      "id": "oriental-family",
      "metadata": {
        "id": "oriental-family",
        "colab": {
          "base_uri": "https://localhost:8080/"
        },
        "outputId": "360cbe9a-0d20-431a-c4c4-71c735b81c6a"
      },
      "outputs": [
        {
          "output_type": "stream",
          "name": "stderr",
          "text": [
            "WARNING:absl:`lr` is deprecated in Keras optimizer, please use `learning_rate` or use the legacy optimizer, e.g.,tf.keras.optimizers.legacy.RMSprop.\n"
          ]
        },
        {
          "output_type": "stream",
          "name": "stdout",
          "text": [
            "Epoch 1/30\n",
            "469/469 [==============================] - 6s 8ms/step - loss: 0.5105 - accuracy: 0.8462 - val_loss: 0.1946 - val_accuracy: 0.9410\n",
            "Epoch 2/30\n",
            "469/469 [==============================] - 3s 7ms/step - loss: 0.2480 - accuracy: 0.9273 - val_loss: 0.1466 - val_accuracy: 0.9563\n",
            "Epoch 3/30\n",
            "469/469 [==============================] - 3s 7ms/step - loss: 0.2006 - accuracy: 0.9409 - val_loss: 0.1246 - val_accuracy: 0.9616\n",
            "Epoch 4/30\n",
            "469/469 [==============================] - 5s 11ms/step - loss: 0.1741 - accuracy: 0.9477 - val_loss: 0.1119 - val_accuracy: 0.9669\n",
            "Epoch 5/30\n",
            "469/469 [==============================] - 3s 6ms/step - loss: 0.1522 - accuracy: 0.9545 - val_loss: 0.1096 - val_accuracy: 0.9656\n",
            "Epoch 6/30\n",
            "469/469 [==============================] - 2s 5ms/step - loss: 0.1424 - accuracy: 0.9567 - val_loss: 0.0965 - val_accuracy: 0.9700\n",
            "Epoch 7/30\n",
            "469/469 [==============================] - 2s 4ms/step - loss: 0.1342 - accuracy: 0.9601 - val_loss: 0.0974 - val_accuracy: 0.9709\n",
            "Epoch 8/30\n",
            "469/469 [==============================] - 3s 5ms/step - loss: 0.1263 - accuracy: 0.9629 - val_loss: 0.0896 - val_accuracy: 0.9715\n",
            "Epoch 9/30\n",
            "469/469 [==============================] - 2s 5ms/step - loss: 0.1178 - accuracy: 0.9646 - val_loss: 0.0951 - val_accuracy: 0.9736\n",
            "Epoch 10/30\n",
            "469/469 [==============================] - 2s 4ms/step - loss: 0.1141 - accuracy: 0.9655 - val_loss: 0.0891 - val_accuracy: 0.9736\n",
            "Epoch 11/30\n",
            "469/469 [==============================] - 2s 4ms/step - loss: 0.1083 - accuracy: 0.9679 - val_loss: 0.0900 - val_accuracy: 0.9734\n",
            "Epoch 12/30\n",
            "469/469 [==============================] - 2s 5ms/step - loss: 0.1028 - accuracy: 0.9695 - val_loss: 0.0868 - val_accuracy: 0.9736\n",
            "Epoch 13/30\n",
            "469/469 [==============================] - 2s 5ms/step - loss: 0.1025 - accuracy: 0.9689 - val_loss: 0.0884 - val_accuracy: 0.9739\n",
            "Epoch 14/30\n",
            "469/469 [==============================] - 3s 6ms/step - loss: 0.0983 - accuracy: 0.9701 - val_loss: 0.0826 - val_accuracy: 0.9762\n",
            "Epoch 15/30\n",
            "469/469 [==============================] - 2s 4ms/step - loss: 0.0969 - accuracy: 0.9708 - val_loss: 0.0903 - val_accuracy: 0.9754\n",
            "Epoch 16/30\n",
            "469/469 [==============================] - 2s 4ms/step - loss: 0.0905 - accuracy: 0.9722 - val_loss: 0.0876 - val_accuracy: 0.9755\n",
            "Epoch 17/30\n",
            "469/469 [==============================] - 2s 5ms/step - loss: 0.0922 - accuracy: 0.9719 - val_loss: 0.0833 - val_accuracy: 0.9765\n",
            "Epoch 18/30\n",
            "469/469 [==============================] - 3s 7ms/step - loss: 0.0904 - accuracy: 0.9732 - val_loss: 0.0908 - val_accuracy: 0.9745\n",
            "Epoch 19/30\n",
            "469/469 [==============================] - 5s 10ms/step - loss: 0.0895 - accuracy: 0.9726 - val_loss: 0.0880 - val_accuracy: 0.9756\n",
            "Epoch 20/30\n",
            "469/469 [==============================] - 3s 7ms/step - loss: 0.0872 - accuracy: 0.9733 - val_loss: 0.0890 - val_accuracy: 0.9760\n",
            "Epoch 21/30\n",
            "469/469 [==============================] - 3s 7ms/step - loss: 0.0851 - accuracy: 0.9739 - val_loss: 0.0902 - val_accuracy: 0.9751\n",
            "Epoch 22/30\n",
            "469/469 [==============================] - 4s 9ms/step - loss: 0.0823 - accuracy: 0.9756 - val_loss: 0.0864 - val_accuracy: 0.9767\n",
            "Epoch 23/30\n",
            "469/469 [==============================] - 4s 8ms/step - loss: 0.0789 - accuracy: 0.9760 - val_loss: 0.0959 - val_accuracy: 0.9759\n",
            "Epoch 24/30\n",
            "469/469 [==============================] - 3s 6ms/step - loss: 0.0830 - accuracy: 0.9750 - val_loss: 0.0907 - val_accuracy: 0.9762\n",
            "Epoch 25/30\n",
            "469/469 [==============================] - 2s 4ms/step - loss: 0.0821 - accuracy: 0.9750 - val_loss: 0.0947 - val_accuracy: 0.9753\n",
            "Epoch 26/30\n",
            "469/469 [==============================] - 2s 4ms/step - loss: 0.0785 - accuracy: 0.9767 - val_loss: 0.0915 - val_accuracy: 0.9760\n",
            "Epoch 27/30\n",
            "469/469 [==============================] - 3s 5ms/step - loss: 0.0790 - accuracy: 0.9757 - val_loss: 0.0986 - val_accuracy: 0.9739\n",
            "Epoch 28/30\n",
            "469/469 [==============================] - 2s 5ms/step - loss: 0.0749 - accuracy: 0.9766 - val_loss: 0.0999 - val_accuracy: 0.9767\n",
            "Epoch 29/30\n",
            "469/469 [==============================] - 2s 4ms/step - loss: 0.0768 - accuracy: 0.9769 - val_loss: 0.1001 - val_accuracy: 0.9754\n",
            "Epoch 30/30\n",
            "469/469 [==============================] - 2s 5ms/step - loss: 0.0738 - accuracy: 0.9776 - val_loss: 0.0950 - val_accuracy: 0.9783\n"
          ]
        }
      ],
      "source": [
        "learning_rate = .001\n",
        "model.compile(loss='categorical_crossentropy',\n",
        "              optimizer=RMSprop(lr=learning_rate),\n",
        "              metrics=['accuracy'])\n",
        "batch_size = 128  # mini-batch with 128 examples\n",
        "epochs = 30\n",
        "history = model.fit(\n",
        "    x_train, y_train,\n",
        "    batch_size=batch_size,\n",
        "    epochs=epochs,\n",
        "    verbose=1,\n",
        "    validation_data=(x_test, y_test))"
      ]
    },
    {
      "cell_type": "markdown",
      "id": "forty-trout",
      "metadata": {
        "id": "forty-trout"
      },
      "source": [
        "Use Keras evaluate function to evaluate performance on the test set"
      ]
    },
    {
      "cell_type": "code",
      "execution_count": 14,
      "id": "random-ballet",
      "metadata": {
        "id": "random-ballet",
        "colab": {
          "base_uri": "https://localhost:8080/"
        },
        "outputId": "fab595af-7b53-4fd0-9ebe-2183e80b1584"
      },
      "outputs": [
        {
          "output_type": "stream",
          "name": "stdout",
          "text": [
            "Test loss: 0.09503231197595596\n",
            "Test accuracy: 0.9782999753952026\n"
          ]
        }
      ],
      "source": [
        "score = model.evaluate(x_test, y_test, verbose=0)\n",
        "print('Test loss:', score[0])\n",
        "print('Test accuracy:', score[1])"
      ]
    },
    {
      "cell_type": "markdown",
      "id": "fatal-tournament",
      "metadata": {
        "id": "fatal-tournament"
      },
      "source": [
        "From the model evaluation, we can view that the model is performing considerably well with a test accuracy of 97%, whilst also maintaining low test lost of nearly 1%."
      ]
    },
    {
      "cell_type": "code",
      "execution_count": 15,
      "id": "imported-impression",
      "metadata": {
        "id": "imported-impression",
        "colab": {
          "base_uri": "https://localhost:8080/",
          "height": 545
        },
        "outputId": "1c15cdca-3161-47f5-8f6e-c64d37aec64d"
      },
      "outputs": [
        {
          "output_type": "display_data",
          "data": {
            "text/plain": [
              "<Figure size 1200x600 with 2 Axes>"
            ],
            "image/png": "[encoded data removed]"
          },
          "metadata": {}
        }
      ],
      "source": [
        "def plot_loss_accuracy(history):\n",
        "    fig = plt.figure(figsize=(12, 6))\n",
        "    ax = fig.add_subplot(1, 2, 1)\n",
        "    ax.plot(history.history[\"loss\"],'r-x', label=\"Train Loss\")\n",
        "    ax.plot(history.history[\"val_loss\"],'b-x', label=\"Validation Loss\")\n",
        "    ax.legend()\n",
        "    ax.set_title('cross_entropy loss')\n",
        "    ax.grid(True)\n",
        "\n",
        "\n",
        "    ax = fig.add_subplot(1, 2, 2)\n",
        "    ax.plot(history.history[\"accuracy\"],'r-x', label=\"Train Accuracy\")\n",
        "    ax.plot(history.history[\"val_accuracy\"],'b-x', label=\"Validation Accuracy\")\n",
        "    ax.legend()\n",
        "    ax.set_title('accuracy')\n",
        "    ax.grid(True)\n",
        "\n",
        "\n",
        "plot_loss_accuracy(history)"
      ]
    },
    {
      "cell_type": "markdown",
      "id": "acoustic-recipient",
      "metadata": {
        "id": "acoustic-recipient"
      },
      "source": [
        "Interpret the result<Br> On the right we can view the accuracy of the model, being that as training went on we can see a steady increase up until closely to 0.97 or 97 %. On the left side we can see see the cross entropy loss, which by definition is the performance of the classification model, from this we can gather that the though in training the model was able to continously go lower in terms of loss, but as we observe in the validation loss we dont see the continous drop and at some point the cross entropy loss increased."
      ]
    },
    {
      "cell_type": "markdown",
      "id": "three-terrorist",
      "metadata": {
        "id": "three-terrorist"
      },
      "source": [
        "#### Supplementary Activity\n",
        "\n",
        "* Use the Keras \"Sequential\" functionality to build a new model (model_1) with the following specifications:\n",
        "\n",
        "1. Two hidden layers.\n",
        "2. First hidden layer of size 400 and second of size 300\n",
        "3. Dropout of .4 at each layer\n",
        "4. How many parameters does your model have?  How does it compare with the previous model?\n",
        "5. Train this model for 20 epochs with RMSProp at a learning rate of .001 and a batch size of 128\n",
        "6. Use at least two  regularization techniques and apply it to the new model (model_2)\n",
        "7. Train this model for your preferred epochs , learning rate, batch size and optimizer\n",
        "8. Compare the accuracy and loss (training and validation) of model_1 and model_2"
      ]
    },
    {
      "cell_type": "code",
      "execution_count": 16,
      "id": "responsible-preserve",
      "metadata": {
        "id": "responsible-preserve"
      },
      "outputs": [],
      "source": [
        "model_1 = Sequential()\n",
        "model_1.add(Dense(300, activation='relu', input_shape=(784,)))\n",
        "model_1.add(Dropout(0.4))\n",
        "model_1.add(Dense(400, activation='relu'))\n",
        "model_1.add(Dropout(0.4))\n",
        "model_1.add(Dense(10,activation='softmax'))"
      ]
    },
    {
      "cell_type": "markdown",
      "source": [
        "4. How many parameters does your model have? How does it compare with the previous modeL?"
      ],
      "metadata": {
        "id": "eUfoNGGFlArp"
      },
      "id": "eUfoNGGFlArp"
    },
    {
      "cell_type": "markdown",
      "source": [
        "Answer: The number of parameters that the new model has remains the same as the previous model, being three (3) parameters. In terms of performance it can be seen that the accuracy is higher than the previous model."
      ],
      "metadata": {
        "id": "gyUJC7qvlGhm"
      },
      "id": "gyUJC7qvlGhm"
    },
    {
      "cell_type": "code",
      "source": [
        "learning_rate = .001\n",
        "model_1.compile(loss='categorical_crossentropy',\n",
        "              optimizer=RMSprop(lr=learning_rate),\n",
        "              metrics=['accuracy'])\n",
        "batch_size = 128  # mini-batch with 128 examples\n",
        "epochs = 20\n",
        "history = model_1.fit(\n",
        "    x_train, y_train,\n",
        "    batch_size=batch_size,\n",
        "    epochs=epochs,\n",
        "    verbose=1,\n",
        "    validation_data=(x_test, y_test))"
      ],
      "metadata": {
        "colab": {
          "base_uri": "https://localhost:8080/"
        },
        "id": "YWbEBxBZjXdg",
        "outputId": "acd47fdc-997b-4f58-b402-50f74887922a"
      },
      "id": "YWbEBxBZjXdg",
      "execution_count": 17,
      "outputs": [
        {
          "output_type": "stream",
          "name": "stderr",
          "text": [
            "WARNING:absl:`lr` is deprecated in Keras optimizer, please use `learning_rate` or use the legacy optimizer, e.g.,tf.keras.optimizers.legacy.RMSprop.\n"
          ]
        },
        {
          "output_type": "stream",
          "name": "stdout",
          "text": [
            "Epoch 1/20\n",
            "469/469 [==============================] - 7s 14ms/step - loss: 0.3433 - accuracy: 0.8954 - val_loss: 0.1282 - val_accuracy: 0.9600\n",
            "Epoch 2/20\n",
            "469/469 [==============================] - 5s 11ms/step - loss: 0.1621 - accuracy: 0.9512 - val_loss: 0.0945 - val_accuracy: 0.9697\n",
            "Epoch 3/20\n",
            "469/469 [==============================] - 6s 14ms/step - loss: 0.1247 - accuracy: 0.9626 - val_loss: 0.0843 - val_accuracy: 0.9754\n",
            "Epoch 4/20\n",
            "469/469 [==============================] - 5s 11ms/step - loss: 0.1062 - accuracy: 0.9683 - val_loss: 0.0779 - val_accuracy: 0.9772\n",
            "Epoch 5/20\n",
            "469/469 [==============================] - 6s 14ms/step - loss: 0.0966 - accuracy: 0.9714 - val_loss: 0.0748 - val_accuracy: 0.9787\n",
            "Epoch 6/20\n",
            "469/469 [==============================] - 6s 14ms/step - loss: 0.0865 - accuracy: 0.9747 - val_loss: 0.0679 - val_accuracy: 0.9798\n",
            "Epoch 7/20\n",
            "469/469 [==============================] - 6s 13ms/step - loss: 0.0795 - accuracy: 0.9766 - val_loss: 0.0795 - val_accuracy: 0.9790\n",
            "Epoch 8/20\n",
            "469/469 [==============================] - 6s 12ms/step - loss: 0.0732 - accuracy: 0.9779 - val_loss: 0.0712 - val_accuracy: 0.9811\n",
            "Epoch 9/20\n",
            "469/469 [==============================] - 5s 11ms/step - loss: 0.0699 - accuracy: 0.9794 - val_loss: 0.0705 - val_accuracy: 0.9825\n",
            "Epoch 10/20\n",
            "469/469 [==============================] - 6s 13ms/step - loss: 0.0650 - accuracy: 0.9804 - val_loss: 0.0685 - val_accuracy: 0.9822\n",
            "Epoch 11/20\n",
            "469/469 [==============================] - 5s 11ms/step - loss: 0.0621 - accuracy: 0.9813 - val_loss: 0.0710 - val_accuracy: 0.9825\n",
            "Epoch 12/20\n",
            "469/469 [==============================] - 6s 13ms/step - loss: 0.0591 - accuracy: 0.9826 - val_loss: 0.0690 - val_accuracy: 0.9821\n",
            "Epoch 13/20\n",
            "469/469 [==============================] - 5s 11ms/step - loss: 0.0549 - accuracy: 0.9833 - val_loss: 0.0754 - val_accuracy: 0.9814\n",
            "Epoch 14/20\n",
            "469/469 [==============================] - 7s 15ms/step - loss: 0.0549 - accuracy: 0.9834 - val_loss: 0.0755 - val_accuracy: 0.9832\n",
            "Epoch 15/20\n",
            "469/469 [==============================] - 6s 12ms/step - loss: 0.0549 - accuracy: 0.9838 - val_loss: 0.0698 - val_accuracy: 0.9833\n",
            "Epoch 16/20\n",
            "469/469 [==============================] - 6s 13ms/step - loss: 0.0496 - accuracy: 0.9854 - val_loss: 0.0764 - val_accuracy: 0.9837\n",
            "Epoch 17/20\n",
            "469/469 [==============================] - 5s 11ms/step - loss: 0.0494 - accuracy: 0.9858 - val_loss: 0.0755 - val_accuracy: 0.9844\n",
            "Epoch 18/20\n",
            "469/469 [==============================] - 6s 12ms/step - loss: 0.0511 - accuracy: 0.9858 - val_loss: 0.0793 - val_accuracy: 0.9815\n",
            "Epoch 19/20\n",
            "469/469 [==============================] - 6s 12ms/step - loss: 0.0458 - accuracy: 0.9867 - val_loss: 0.0808 - val_accuracy: 0.9833\n",
            "Epoch 20/20\n",
            "469/469 [==============================] - 5s 11ms/step - loss: 0.0472 - accuracy: 0.9863 - val_loss: 0.0810 - val_accuracy: 0.9830\n"
          ]
        }
      ]
    },
    {
      "cell_type": "code",
      "source": [
        "score = model_1.evaluate(x_test, y_test, verbose=0)\n",
        "print('Test loss:', score[0])\n",
        "print('Test accuracy:', score[1])"
      ],
      "metadata": {
        "colab": {
          "base_uri": "https://localhost:8080/"
        },
        "id": "NkTaTsGLjgFQ",
        "outputId": "2c706574-d29a-469c-b764-0184b9080974"
      },
      "id": "NkTaTsGLjgFQ",
      "execution_count": 18,
      "outputs": [
        {
          "output_type": "stream",
          "name": "stdout",
          "text": [
            "Test loss: 0.08096777647733688\n",
            "Test accuracy: 0.9829999804496765\n"
          ]
        }
      ]
    },
    {
      "cell_type": "markdown",
      "source": [
        "6. Use at least two regularization techniques and apply it to the new model (model_2)"
      ],
      "metadata": {
        "id": "Ch6-pOZjmZWt"
      },
      "id": "Ch6-pOZjmZWt"
    },
    {
      "cell_type": "code",
      "source": [
        "from keras import regularizers\n",
        "\n",
        "model_2 = Sequential()\n",
        "model_2.add(Dense(400, activation='relu', input_shape=(784,)))\n",
        "model_2.add(Dropout(0.4))\n",
        "model_2.add(Dense(300, kernel_regularizer=regularizers.l2(0.01), activity_regularizer=regularizers.l1(0.01), activation='relu'))\n",
        "model_2.add(Dropout(0.4))\n",
        "model_2.add(Dense(10,activation='softmax'))"
      ],
      "metadata": {
        "id": "rPS5kI3Zmu99"
      },
      "id": "rPS5kI3Zmu99",
      "execution_count": 33,
      "outputs": []
    },
    {
      "cell_type": "code",
      "source": [
        "from keras.callbacks import EarlyStopping\n",
        "#Early Stop Regularizer\n",
        "#For this Early Stop, we only put in 10 patience, patience being the indicator\n",
        "#for the regularizer to stop running epochs as the performance had already\n",
        "#starting going down or stopped increasing\n",
        "earlystop= EarlyStopping(monitor='val_accuracy', patience=10)\n",
        "learning_rate = .1\n",
        "model_2.compile(loss='categorical_crossentropy',\n",
        "              optimizer=RMSprop(lr=learning_rate),\n",
        "              metrics=['accuracy'])\n",
        "batch_size = 128  # mini-batch with 128 examples\n",
        "epochs = 100\n",
        "history = model_2.fit(\n",
        "    x_train, y_train,\n",
        "    batch_size=batch_size,\n",
        "    epochs=epochs,\n",
        "    verbose=1,\n",
        "    validation_data=(x_test, y_test),\n",
        "    callbacks=[earlystop])"
      ],
      "metadata": {
        "id": "1NYvhcVOK5dF",
        "colab": {
          "base_uri": "https://localhost:8080/"
        },
        "outputId": "237716eb-79f5-46a0-ee19-6350459b9f7b"
      },
      "id": "1NYvhcVOK5dF",
      "execution_count": 34,
      "outputs": [
        {
          "output_type": "stream",
          "name": "stderr",
          "text": [
            "WARNING:absl:`lr` is deprecated in Keras optimizer, please use `learning_rate` or use the legacy optimizer, e.g.,tf.keras.optimizers.legacy.RMSprop.\n"
          ]
        },
        {
          "output_type": "stream",
          "name": "stdout",
          "text": [
            "Epoch 1/100\n",
            "469/469 [==============================] - 8s 16ms/step - loss: 1.0026 - accuracy: 0.8974 - val_loss: 0.4073 - val_accuracy: 0.9479\n",
            "Epoch 2/100\n",
            "469/469 [==============================] - 6s 12ms/step - loss: 0.3825 - accuracy: 0.9505 - val_loss: 0.2896 - val_accuracy: 0.9662\n",
            "Epoch 3/100\n",
            "469/469 [==============================] - 7s 14ms/step - loss: 0.3053 - accuracy: 0.9600 - val_loss: 0.2435 - val_accuracy: 0.9720\n",
            "Epoch 4/100\n",
            "469/469 [==============================] - 5s 12ms/step - loss: 0.2664 - accuracy: 0.9647 - val_loss: 0.2176 - val_accuracy: 0.9729\n",
            "Epoch 5/100\n",
            "469/469 [==============================] - 7s 14ms/step - loss: 0.2447 - accuracy: 0.9681 - val_loss: 0.2036 - val_accuracy: 0.9735\n",
            "Epoch 6/100\n",
            "469/469 [==============================] - 5s 12ms/step - loss: 0.2242 - accuracy: 0.9708 - val_loss: 0.1963 - val_accuracy: 0.9734\n",
            "Epoch 7/100\n",
            "469/469 [==============================] - 7s 14ms/step - loss: 0.2110 - accuracy: 0.9730 - val_loss: 0.1817 - val_accuracy: 0.9758\n",
            "Epoch 8/100\n",
            "469/469 [==============================] - 6s 12ms/step - loss: 0.2002 - accuracy: 0.9734 - val_loss: 0.1732 - val_accuracy: 0.9771\n",
            "Epoch 9/100\n",
            "469/469 [==============================] - 6s 13ms/step - loss: 0.1906 - accuracy: 0.9755 - val_loss: 0.1715 - val_accuracy: 0.9769\n",
            "Epoch 10/100\n",
            "469/469 [==============================] - 6s 13ms/step - loss: 0.1847 - accuracy: 0.9747 - val_loss: 0.1651 - val_accuracy: 0.9782\n",
            "Epoch 11/100\n",
            "469/469 [==============================] - 6s 13ms/step - loss: 0.1785 - accuracy: 0.9763 - val_loss: 0.1601 - val_accuracy: 0.9778\n",
            "Epoch 12/100\n",
            "469/469 [==============================] - 6s 13ms/step - loss: 0.1711 - accuracy: 0.9778 - val_loss: 0.1617 - val_accuracy: 0.9753\n",
            "Epoch 13/100\n",
            "469/469 [==============================] - 6s 12ms/step - loss: 0.1651 - accuracy: 0.9789 - val_loss: 0.1584 - val_accuracy: 0.9771\n",
            "Epoch 14/100\n",
            "469/469 [==============================] - 7s 14ms/step - loss: 0.1622 - accuracy: 0.9786 - val_loss: 0.1533 - val_accuracy: 0.9769\n",
            "Epoch 15/100\n",
            "469/469 [==============================] - 5s 12ms/step - loss: 0.1581 - accuracy: 0.9787 - val_loss: 0.1470 - val_accuracy: 0.9802\n",
            "Epoch 16/100\n",
            "469/469 [==============================] - 7s 15ms/step - loss: 0.1560 - accuracy: 0.9792 - val_loss: 0.1444 - val_accuracy: 0.9797\n",
            "Epoch 17/100\n",
            "469/469 [==============================] - 6s 12ms/step - loss: 0.1498 - accuracy: 0.9808 - val_loss: 0.1408 - val_accuracy: 0.9798\n",
            "Epoch 18/100\n",
            "469/469 [==============================] - 7s 15ms/step - loss: 0.1472 - accuracy: 0.9801 - val_loss: 0.1355 - val_accuracy: 0.9803\n",
            "Epoch 19/100\n",
            "469/469 [==============================] - 6s 13ms/step - loss: 0.1444 - accuracy: 0.9808 - val_loss: 0.1450 - val_accuracy: 0.9794\n",
            "Epoch 20/100\n",
            "469/469 [==============================] - 7s 14ms/step - loss: 0.1397 - accuracy: 0.9821 - val_loss: 0.1398 - val_accuracy: 0.9787\n",
            "Epoch 21/100\n",
            "469/469 [==============================] - 6s 13ms/step - loss: 0.1401 - accuracy: 0.9815 - val_loss: 0.1357 - val_accuracy: 0.9805\n",
            "Epoch 22/100\n",
            "469/469 [==============================] - 7s 14ms/step - loss: 0.1358 - accuracy: 0.9825 - val_loss: 0.1297 - val_accuracy: 0.9809\n",
            "Epoch 23/100\n",
            "469/469 [==============================] - 6s 13ms/step - loss: 0.1346 - accuracy: 0.9822 - val_loss: 0.1361 - val_accuracy: 0.9806\n",
            "Epoch 24/100\n",
            "469/469 [==============================] - 7s 14ms/step - loss: 0.1296 - accuracy: 0.9832 - val_loss: 0.1312 - val_accuracy: 0.9800\n",
            "Epoch 25/100\n",
            "469/469 [==============================] - 6s 13ms/step - loss: 0.1316 - accuracy: 0.9824 - val_loss: 0.1333 - val_accuracy: 0.9794\n",
            "Epoch 26/100\n",
            "469/469 [==============================] - 7s 14ms/step - loss: 0.1285 - accuracy: 0.9826 - val_loss: 0.1339 - val_accuracy: 0.9800\n",
            "Epoch 27/100\n",
            "469/469 [==============================] - 6s 12ms/step - loss: 0.1270 - accuracy: 0.9833 - val_loss: 0.1298 - val_accuracy: 0.9814\n",
            "Epoch 28/100\n",
            "469/469 [==============================] - 7s 14ms/step - loss: 0.1254 - accuracy: 0.9833 - val_loss: 0.1271 - val_accuracy: 0.9806\n",
            "Epoch 29/100\n",
            "469/469 [==============================] - 6s 12ms/step - loss: 0.1236 - accuracy: 0.9834 - val_loss: 0.1237 - val_accuracy: 0.9817\n",
            "Epoch 30/100\n",
            "469/469 [==============================] - 7s 14ms/step - loss: 0.1219 - accuracy: 0.9838 - val_loss: 0.1249 - val_accuracy: 0.9814\n",
            "Epoch 31/100\n",
            "469/469 [==============================] - 5s 12ms/step - loss: 0.1191 - accuracy: 0.9845 - val_loss: 0.1223 - val_accuracy: 0.9817\n",
            "Epoch 32/100\n",
            "469/469 [==============================] - 7s 14ms/step - loss: 0.1171 - accuracy: 0.9847 - val_loss: 0.1290 - val_accuracy: 0.9804\n",
            "Epoch 33/100\n",
            "469/469 [==============================] - 6s 12ms/step - loss: 0.1154 - accuracy: 0.9847 - val_loss: 0.1302 - val_accuracy: 0.9801\n",
            "Epoch 34/100\n",
            "469/469 [==============================] - 7s 14ms/step - loss: 0.1175 - accuracy: 0.9845 - val_loss: 0.1273 - val_accuracy: 0.9800\n",
            "Epoch 35/100\n",
            "469/469 [==============================] - 6s 13ms/step - loss: 0.1149 - accuracy: 0.9849 - val_loss: 0.1249 - val_accuracy: 0.9794\n",
            "Epoch 36/100\n",
            "469/469 [==============================] - 7s 15ms/step - loss: 0.1157 - accuracy: 0.9843 - val_loss: 0.1195 - val_accuracy: 0.9808\n",
            "Epoch 37/100\n",
            "469/469 [==============================] - 6s 13ms/step - loss: 0.1140 - accuracy: 0.9851 - val_loss: 0.1248 - val_accuracy: 0.9804\n",
            "Epoch 38/100\n",
            "469/469 [==============================] - 7s 15ms/step - loss: 0.1111 - accuracy: 0.9853 - val_loss: 0.1235 - val_accuracy: 0.9810\n",
            "Epoch 39/100\n",
            "469/469 [==============================] - 6s 12ms/step - loss: 0.1109 - accuracy: 0.9852 - val_loss: 0.1245 - val_accuracy: 0.9795\n"
          ]
        }
      ]
    },
    {
      "cell_type": "markdown",
      "source": [
        "Early Stop is a method of regularization in which it stops the training early upon seeing that the model is dips in performance, this is primarily good if the model has to do a large amount of iterations. Furthermore, this helps combat the problem of overfitting as it would stop training before it can start overfitting."
      ],
      "metadata": {
        "id": "wxLsQtIkzey7"
      },
      "id": "wxLsQtIkzey7"
    },
    {
      "cell_type": "code",
      "source": [
        "score1 = model_1.evaluate(x_test, y_test, verbose=0)\n",
        "print('Test loss:', score1[0])\n",
        "print('Test accuracy:', score1[1])\n",
        "\n",
        "score2 = model_2.evaluate(x_test, y_test, verbose=0)\n",
        "print('Test loss:', score2[0])\n",
        "print('Test accuracy:', score2[1])"
      ],
      "metadata": {
        "id": "fBfLXkvJg4nd",
        "colab": {
          "base_uri": "https://localhost:8080/"
        },
        "outputId": "a3409504-9f54-476f-857c-8ec290d3d336"
      },
      "id": "fBfLXkvJg4nd",
      "execution_count": 35,
      "outputs": [
        {
          "output_type": "stream",
          "name": "stdout",
          "text": [
            "Test loss: 0.08096777647733688\n",
            "Test accuracy: 0.9829999804496765\n",
            "Test loss: 0.12454431504011154\n",
            "Test accuracy: 0.9794999957084656\n"
          ]
        }
      ]
    },
    {
      "cell_type": "markdown",
      "source": [
        "Model 2 being the one that I had customized and added different regularizers such as early stop and kernel regularizer proved to have more loss in and accuracy as compared to the first, being Model 1."
      ],
      "metadata": {
        "id": "cMvQ34tQ7A8C"
      },
      "id": "cMvQ34tQ7A8C"
    },
    {
      "cell_type": "markdown",
      "id": "classified-campaign",
      "metadata": {
        "id": "classified-campaign"
      },
      "source": [
        "#### Conclusion"
      ]
    },
    {
      "cell_type": "markdown",
      "id": "relevant-thunder",
      "metadata": {
        "id": "relevant-thunder"
      },
      "source": [
        "In this activity, we tackled on regularization and how it functions for our neural network. This allows us to avoid overfitting, as well as underfitting. There were a few foreign concepts that I had come across such as Dropout, and creating the neural network with a regularizer on. But some of the regularization methods that I had used such as Early Stopping is greatly helping when dealing with a large amount of epochs. Moreover this activity has helped me revisit concept such as overfitting and underfitting and its important when creating a model."
      ]
    },
    {
      "cell_type": "code",
      "execution_count": null,
      "id": "interracial-satellite",
      "metadata": {
        "id": "interracial-satellite"
      },
      "outputs": [],
      "source": []
    }
  ],
  "metadata": {
    "kernelspec": {
      "display_name": "Python 3",
      "language": "python",
      "name": "python3"
    },
    "language_info": {
      "codemirror_mode": {
        "name": "ipython",
        "version": 3
      },
      "file_extension": ".py",
      "mimetype": "text/x-python",
      "name": "python",
      "nbconvert_exporter": "python",
      "pygments_lexer": "ipython3",
      "version": "3.7.10"
    },
    "colab": {
      "provenance": []
    }
  },
  "nbformat": 4,
  "nbformat_minor": 5
}