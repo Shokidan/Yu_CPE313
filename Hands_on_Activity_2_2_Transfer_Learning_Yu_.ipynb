{
  "cells": [
    {
      "cell_type": "markdown",
      "metadata": {
        "id": "annual-sandwich"
      },
      "source": [
        "# Activity 2.2 - Transfer Learning"
      ],
      "id": "annual-sandwich"
    },
    {
      "cell_type": "markdown",
      "metadata": {
        "id": "great-fireplace"
      },
      "source": [
        "#### Objective(s):\n",
        "\n",
        "This activity aims to introduce how to apply transfer learning"
      ],
      "id": "great-fireplace"
    },
    {
      "cell_type": "markdown",
      "metadata": {
        "id": "subjective-elimination"
      },
      "source": [
        "#### Intended Learning Outcomes (ILOs):\n",
        "* Demonstrate how to build and train neural network\n",
        "* Demonstrate how to apply transfer learning in neural network\n"
      ],
      "id": "subjective-elimination"
    },
    {
      "cell_type": "markdown",
      "metadata": {
        "id": "simplified-azerbaijan"
      },
      "source": [
        "#### Resources:\n",
        "* Jupyter Notebook\n",
        "* CIFAR-10 dataset"
      ],
      "id": "simplified-azerbaijan"
    },
    {
      "cell_type": "markdown",
      "metadata": {
        "id": "ordinary-crime"
      },
      "source": [
        "#### Procedures\n",
        "Load the necessary libraries"
      ],
      "id": "ordinary-crime"
    },
    {
      "cell_type": "code",
      "execution_count": null,
      "metadata": {
        "id": "comic-joining"
      },
      "outputs": [],
      "source": [
        "from __future__ import print_function\n",
        "\n",
        "import datetime\n",
        "import keras\n",
        "from keras.datasets import mnist\n",
        "from keras.models import Sequential\n",
        "from keras.layers import Dense, Dropout, Activation, Flatten\n",
        "from keras.layers import Conv2D, MaxPooling2D\n",
        "from keras import backend as K"
      ],
      "id": "comic-joining"
    },
    {
      "cell_type": "markdown",
      "metadata": {
        "id": "moral-chair"
      },
      "source": [
        "Set the parameters"
      ],
      "id": "moral-chair"
    },
    {
      "cell_type": "code",
      "execution_count": null,
      "metadata": {
        "id": "sticky-metallic"
      },
      "outputs": [],
      "source": [
        "now = datetime.datetime.now\n",
        "batch_size = 128\n",
        "num_classes = 5\n",
        "epochs = 5\n",
        "img_rows, img_cols = 28, 28\n",
        "filters = 32\n",
        "pool_size = 2\n",
        "kernel_size = 3"
      ],
      "id": "sticky-metallic"
    },
    {
      "cell_type": "markdown",
      "metadata": {
        "id": "resident-activity"
      },
      "source": [
        "Set how the input data is loaded"
      ],
      "id": "resident-activity"
    },
    {
      "cell_type": "code",
      "execution_count": null,
      "metadata": {
        "id": "measured-queens"
      },
      "outputs": [],
      "source": [
        "if K.image_data_format() == 'channels_first':\n",
        "    input_shape = (1, img_rows, img_cols)\n",
        "else:\n",
        "    input_shape = (img_rows, img_cols, 1)"
      ],
      "id": "measured-queens"
    },
    {
      "cell_type": "markdown",
      "metadata": {
        "id": "jewish-russell"
      },
      "source": [
        "* Write a function to include all the training steps.\n",
        "* Use the model, training set, test set and number of classes as function parameters\n"
      ],
      "id": "jewish-russell"
    },
    {
      "cell_type": "code",
      "execution_count": null,
      "metadata": {
        "id": "julian-batch"
      },
      "outputs": [],
      "source": [
        "def train_model(model, train, test, num_classes):\n",
        "    x_train = train[0].reshape((train[0].shape[0],) + input_shape)\n",
        "    x_test = test[0].reshape((test[0].shape[0],) + input_shape)\n",
        "    x_train = x_train.astype('float32')\n",
        "    x_test = x_test.astype('float32')\n",
        "    x_train /= 255\n",
        "    x_test /= 255\n",
        "    print('x_train shape:', x_train.shape)\n",
        "    print(x_train.shape[0], 'train samples')\n",
        "    print(x_test.shape[0], 'test samples')\n",
        "\n",
        "    # convert class vectors to binary class matrices\n",
        "    y_train = keras.utils.to_categorical(train[1], num_classes)\n",
        "    y_test = keras.utils.to_categorical(test[1], num_classes)\n",
        "\n",
        "    model.compile(loss='categorical_crossentropy',\n",
        "                  optimizer='adadelta',\n",
        "                  metrics=['accuracy'])\n",
        "\n",
        "    t = now()\n",
        "    model.fit(x_train, y_train,\n",
        "              batch_size=batch_size,\n",
        "              epochs=epochs,\n",
        "              verbose=1,\n",
        "              validation_data=(x_test, y_test))\n",
        "    print('Training time: %s' % (now() - t))\n",
        "\n",
        "    score = model.evaluate(x_test, y_test, verbose=0)\n",
        "    print('Test score:', score[0])\n",
        "    print('Test accuracy:', score[1])"
      ],
      "id": "julian-batch"
    },
    {
      "cell_type": "markdown",
      "metadata": {
        "id": "monetary-final"
      },
      "source": [
        "Shuffle and split the data between train and test sets"
      ],
      "id": "monetary-final"
    },
    {
      "cell_type": "code",
      "execution_count": null,
      "metadata": {
        "id": "hollywood-amendment",
        "colab": {
          "base_uri": "https://localhost:8080/"
        },
        "outputId": "1ec06bcd-0c5a-46a0-9ba3-ee774b1d2a5f"
      },
      "outputs": [
        {
          "output_type": "stream",
          "name": "stdout",
          "text": [
            "Downloading data from https://storage.googleapis.com/tensorflow/tf-keras-datasets/mnist.npz\n",
            "11490434/11490434 [==============================] - 0s 0us/step\n"
          ]
        }
      ],
      "source": [
        "(x_train, y_train), (x_test, y_test) = mnist.load_data()"
      ],
      "id": "hollywood-amendment"
    },
    {
      "cell_type": "markdown",
      "metadata": {
        "id": "committed-bench"
      },
      "source": [
        "Create two datasets\n",
        "* one with digits below 5\n",
        "* one with 5 and above"
      ],
      "id": "committed-bench"
    },
    {
      "cell_type": "code",
      "execution_count": null,
      "metadata": {
        "id": "lesser-bradley"
      },
      "outputs": [],
      "source": [
        "x_train_lt5 = x_train[y_train < 5]\n",
        "y_train_lt5 = y_train[y_train < 5]\n",
        "x_test_lt5 = x_test[y_test < 5]\n",
        "y_test_lt5 = y_test[y_test < 5]\n",
        "\n",
        "x_train_gte5 = x_train[y_train >= 5]\n",
        "y_train_gte5 = y_train[y_train >= 5] - 5\n",
        "x_test_gte5 = x_test[y_test >= 5]\n",
        "y_test_gte5 = y_test[y_test >= 5] - 5"
      ],
      "id": "lesser-bradley"
    },
    {
      "cell_type": "markdown",
      "metadata": {
        "id": "talented-scheme"
      },
      "source": [
        "* Define the feature layers that will used for transfer learning\n",
        "* Freeze these layers during fine-tuning process"
      ],
      "id": "talented-scheme"
    },
    {
      "cell_type": "code",
      "execution_count": null,
      "metadata": {
        "id": "ranging-neutral"
      },
      "outputs": [],
      "source": [
        "feature_layers = [\n",
        "    Conv2D(filters, kernel_size,\n",
        "           padding='valid',\n",
        "           input_shape=input_shape),\n",
        "    Activation('relu'),\n",
        "    Conv2D(filters, kernel_size),\n",
        "    Activation('relu'),\n",
        "    MaxPooling2D(pool_size=pool_size),\n",
        "    Dropout(0.25),\n",
        "    Flatten(),\n",
        "]"
      ],
      "id": "ranging-neutral"
    },
    {
      "cell_type": "markdown",
      "metadata": {
        "id": "bulgarian-accuracy"
      },
      "source": [
        "Define the classification layers"
      ],
      "id": "bulgarian-accuracy"
    },
    {
      "cell_type": "code",
      "execution_count": null,
      "metadata": {
        "id": "religious-timer"
      },
      "outputs": [],
      "source": [
        "classification_layers = [\n",
        "    Dense(128),\n",
        "    Activation('relu'),\n",
        "    Dropout(0.5),\n",
        "    Dense(num_classes),\n",
        "    Activation('softmax')\n",
        "]"
      ],
      "id": "religious-timer"
    },
    {
      "cell_type": "markdown",
      "metadata": {
        "id": "yellow-puzzle"
      },
      "source": [
        "Create a model by combining the feature layers and classification layers"
      ],
      "id": "yellow-puzzle"
    },
    {
      "cell_type": "code",
      "execution_count": null,
      "metadata": {
        "id": "governmental-portable"
      },
      "outputs": [],
      "source": [
        "model = Sequential(feature_layers + classification_layers)"
      ],
      "id": "governmental-portable"
    },
    {
      "cell_type": "markdown",
      "metadata": {
        "id": "noticed-dairy"
      },
      "source": [
        "Check the model summary"
      ],
      "id": "noticed-dairy"
    },
    {
      "cell_type": "code",
      "execution_count": null,
      "metadata": {
        "colab": {
          "base_uri": "https://localhost:8080/"
        },
        "id": "correct-syria",
        "outputId": "5a0eb23b-7548-4b5c-c61d-a13cfec955e6"
      },
      "outputs": [
        {
          "output_type": "stream",
          "name": "stdout",
          "text": [
            "Model: \"sequential\"\n",
            "_________________________________________________________________\n",
            " Layer (type)                Output Shape              Param #   \n",
            "=================================================================\n",
            " conv2d (Conv2D)             (None, 26, 26, 32)        320       \n",
            "                                                                 \n",
            " activation (Activation)     (None, 26, 26, 32)        0         \n",
            "                                                                 \n",
            " conv2d_1 (Conv2D)           (None, 24, 24, 32)        9248      \n",
            "                                                                 \n",
            " activation_1 (Activation)   (None, 24, 24, 32)        0         \n",
            "                                                                 \n",
            " max_pooling2d (MaxPooling2  (None, 12, 12, 32)        0         \n",
            " D)                                                              \n",
            "                                                                 \n",
            " dropout (Dropout)           (None, 12, 12, 32)        0         \n",
            "                                                                 \n",
            " flatten (Flatten)           (None, 4608)              0         \n",
            "                                                                 \n",
            " dense (Dense)               (None, 128)               589952    \n",
            "                                                                 \n",
            " activation_2 (Activation)   (None, 128)               0         \n",
            "                                                                 \n",
            " dropout_1 (Dropout)         (None, 128)               0         \n",
            "                                                                 \n",
            " dense_1 (Dense)             (None, 5)                 645       \n",
            "                                                                 \n",
            " activation_3 (Activation)   (None, 5)                 0         \n",
            "                                                                 \n",
            "=================================================================\n",
            "Total params: 600165 (2.29 MB)\n",
            "Trainable params: 600165 (2.29 MB)\n",
            "Non-trainable params: 0 (0.00 Byte)\n",
            "_________________________________________________________________\n"
          ]
        }
      ],
      "source": [
        "model.summary()"
      ],
      "id": "correct-syria"
    },
    {
      "cell_type": "markdown",
      "metadata": {
        "id": "productive-regular"
      },
      "source": [
        " Train the  model on the digits 5,6,7,8,9"
      ],
      "id": "productive-regular"
    },
    {
      "cell_type": "code",
      "execution_count": null,
      "metadata": {
        "colab": {
          "base_uri": "https://localhost:8080/"
        },
        "id": "distinct-ticket",
        "outputId": "01af48d5-dcd3-47fe-8950-f7331d5bb92a"
      },
      "outputs": [
        {
          "output_type": "stream",
          "name": "stdout",
          "text": [
            "x_train shape: (29404, 28, 28, 1)\n",
            "29404 train samples\n",
            "4861 test samples\n",
            "Epoch 1/5\n",
            "230/230 [==============================] - 53s 227ms/step - loss: 1.6079 - accuracy: 0.2087 - val_loss: 1.5964 - val_accuracy: 0.2792\n",
            "Epoch 2/5\n",
            "230/230 [==============================] - 45s 198ms/step - loss: 1.5908 - accuracy: 0.2757 - val_loss: 1.5787 - val_accuracy: 0.4581\n",
            "Epoch 3/5\n",
            "230/230 [==============================] - 44s 191ms/step - loss: 1.5746 - accuracy: 0.3395 - val_loss: 1.5597 - val_accuracy: 0.5569\n",
            "Epoch 4/5\n",
            "230/230 [==============================] - 45s 197ms/step - loss: 1.5564 - accuracy: 0.4071 - val_loss: 1.5388 - val_accuracy: 0.6167\n",
            "Epoch 5/5\n",
            "230/230 [==============================] - 45s 194ms/step - loss: 1.5366 - accuracy: 0.4526 - val_loss: 1.5152 - val_accuracy: 0.6546\n",
            "Training time: 0:04:23.264329\n",
            "Test score: 1.5152373313903809\n",
            "Test accuracy: 0.654597818851471\n"
          ]
        }
      ],
      "source": [
        "train_model(model,\n",
        "            (x_train_gte5, y_train_gte5),\n",
        "            (x_test_gte5, y_test_gte5), num_classes)"
      ],
      "id": "distinct-ticket"
    },
    {
      "cell_type": "markdown",
      "metadata": {
        "id": "racial-emission"
      },
      "source": [
        "Freeze only the feature layers"
      ],
      "id": "racial-emission"
    },
    {
      "cell_type": "code",
      "execution_count": null,
      "metadata": {
        "id": "violent-territory"
      },
      "outputs": [],
      "source": [
        "for l in feature_layers:\n",
        "    l.trainable = False"
      ],
      "id": "violent-territory"
    },
    {
      "cell_type": "markdown",
      "metadata": {
        "id": "continuous-injection"
      },
      "source": [
        "Check again the summary and observe the parameters from the previous model"
      ],
      "id": "continuous-injection"
    },
    {
      "cell_type": "code",
      "execution_count": null,
      "metadata": {
        "colab": {
          "base_uri": "https://localhost:8080/"
        },
        "id": "sunset-manhattan",
        "outputId": "3c7f8c67-c12c-4ba2-8e0c-379cc685c0f5"
      },
      "outputs": [
        {
          "output_type": "stream",
          "name": "stdout",
          "text": [
            "Model: \"sequential\"\n",
            "_________________________________________________________________\n",
            " Layer (type)                Output Shape              Param #   \n",
            "=================================================================\n",
            " conv2d (Conv2D)             (None, 26, 26, 32)        320       \n",
            "                                                                 \n",
            " activation (Activation)     (None, 26, 26, 32)        0         \n",
            "                                                                 \n",
            " conv2d_1 (Conv2D)           (None, 24, 24, 32)        9248      \n",
            "                                                                 \n",
            " activation_1 (Activation)   (None, 24, 24, 32)        0         \n",
            "                                                                 \n",
            " max_pooling2d (MaxPooling2  (None, 12, 12, 32)        0         \n",
            " D)                                                              \n",
            "                                                                 \n",
            " dropout (Dropout)           (None, 12, 12, 32)        0         \n",
            "                                                                 \n",
            " flatten (Flatten)           (None, 4608)              0         \n",
            "                                                                 \n",
            " dense (Dense)               (None, 128)               589952    \n",
            "                                                                 \n",
            " activation_2 (Activation)   (None, 128)               0         \n",
            "                                                                 \n",
            " dropout_1 (Dropout)         (None, 128)               0         \n",
            "                                                                 \n",
            " dense_1 (Dense)             (None, 5)                 645       \n",
            "                                                                 \n",
            " activation_3 (Activation)   (None, 5)                 0         \n",
            "                                                                 \n",
            "=================================================================\n",
            "Total params: 600165 (2.29 MB)\n",
            "Trainable params: 590597 (2.25 MB)\n",
            "Non-trainable params: 9568 (37.38 KB)\n",
            "_________________________________________________________________\n"
          ]
        }
      ],
      "source": [
        "model.summary()"
      ],
      "id": "sunset-manhattan"
    },
    {
      "cell_type": "markdown",
      "metadata": {
        "id": "modern-carnival"
      },
      "source": [
        "Train again the model using the 0 to 4 digits"
      ],
      "id": "modern-carnival"
    },
    {
      "cell_type": "code",
      "execution_count": null,
      "metadata": {
        "colab": {
          "base_uri": "https://localhost:8080/"
        },
        "id": "comprehensive-nurse",
        "outputId": "b303ba28-d1ab-4461-c935-c5fb57a46148"
      },
      "outputs": [
        {
          "output_type": "stream",
          "name": "stdout",
          "text": [
            "x_train shape: (30596, 28, 28, 1)\n",
            "30596 train samples\n",
            "5139 test samples\n",
            "Epoch 1/5\n",
            "240/240 [==============================] - 18s 74ms/step - loss: 1.5820 - accuracy: 0.2973 - val_loss: 1.5613 - val_accuracy: 0.4135\n",
            "Epoch 2/5\n",
            "240/240 [==============================] - 16s 67ms/step - loss: 1.5563 - accuracy: 0.3735 - val_loss: 1.5355 - val_accuracy: 0.5505\n",
            "Epoch 3/5\n",
            "240/240 [==============================] - 17s 70ms/step - loss: 1.5319 - accuracy: 0.4491 - val_loss: 1.5098 - val_accuracy: 0.6569\n",
            "Epoch 4/5\n",
            "240/240 [==============================] - 17s 71ms/step - loss: 1.5086 - accuracy: 0.5133 - val_loss: 1.4842 - val_accuracy: 0.7375\n",
            "Epoch 5/5\n",
            "240/240 [==============================] - 16s 67ms/step - loss: 1.4848 - accuracy: 0.5699 - val_loss: 1.4582 - val_accuracy: 0.7968\n",
            "Training time: 0:02:22.761571\n",
            "Test score: 1.458176851272583\n",
            "Test accuracy: 0.7968476414680481\n"
          ]
        }
      ],
      "source": [
        "train_model(model,\n",
        "            (x_train_lt5, y_train_lt5),\n",
        "            (x_test_lt5, y_test_lt5), num_classes)"
      ],
      "id": "comprehensive-nurse"
    },
    {
      "cell_type": "markdown",
      "metadata": {
        "id": "numerical-integer"
      },
      "source": [
        "#### Supplementary Activity\n",
        "Now write code to reverse this training process. That is, you will train on the digits 0-4, and then finetune only the last layers on the digits 5-9."
      ],
      "id": "numerical-integer"
    },
    {
      "cell_type": "code",
      "source": [
        "for l in feature_layers:\n",
        "    l.trainable = True"
      ],
      "metadata": {
        "id": "0Y2p40zSGOEL"
      },
      "id": "0Y2p40zSGOEL",
      "execution_count": null,
      "outputs": []
    },
    {
      "cell_type": "code",
      "source": [
        "model.summary()"
      ],
      "metadata": {
        "colab": {
          "base_uri": "https://localhost:8080/"
        },
        "id": "c7LsjqgNpUXG",
        "outputId": "7c985461-a4de-4a66-aa41-32381eb8480e"
      },
      "id": "c7LsjqgNpUXG",
      "execution_count": null,
      "outputs": [
        {
          "output_type": "stream",
          "name": "stdout",
          "text": [
            "Model: \"sequential\"\n",
            "_________________________________________________________________\n",
            " Layer (type)                Output Shape              Param #   \n",
            "=================================================================\n",
            " conv2d (Conv2D)             (None, 26, 26, 32)        320       \n",
            "                                                                 \n",
            " activation (Activation)     (None, 26, 26, 32)        0         \n",
            "                                                                 \n",
            " conv2d_1 (Conv2D)           (None, 24, 24, 32)        9248      \n",
            "                                                                 \n",
            " activation_1 (Activation)   (None, 24, 24, 32)        0         \n",
            "                                                                 \n",
            " max_pooling2d (MaxPooling2  (None, 12, 12, 32)        0         \n",
            " D)                                                              \n",
            "                                                                 \n",
            " dropout (Dropout)           (None, 12, 12, 32)        0         \n",
            "                                                                 \n",
            " flatten (Flatten)           (None, 4608)              0         \n",
            "                                                                 \n",
            " dense (Dense)               (None, 128)               589952    \n",
            "                                                                 \n",
            " activation_2 (Activation)   (None, 128)               0         \n",
            "                                                                 \n",
            " dropout_1 (Dropout)         (None, 128)               0         \n",
            "                                                                 \n",
            " dense_1 (Dense)             (None, 5)                 645       \n",
            "                                                                 \n",
            " activation_3 (Activation)   (None, 5)                 0         \n",
            "                                                                 \n",
            "=================================================================\n",
            "Total params: 600165 (2.29 MB)\n",
            "Trainable params: 590597 (2.25 MB)\n",
            "Non-trainable params: 9568 (37.38 KB)\n",
            "_________________________________________________________________\n"
          ]
        }
      ]
    },
    {
      "cell_type": "code",
      "execution_count": null,
      "metadata": {
        "colab": {
          "base_uri": "https://localhost:8080/"
        },
        "id": "registered-venice",
        "outputId": "a38d7b24-0aa0-4231-cf00-01cf645f3cf1"
      },
      "outputs": [
        {
          "output_type": "stream",
          "name": "stdout",
          "text": [
            "x_train shape: (30596, 28, 28, 1)\n",
            "30596 train samples\n",
            "5139 test samples\n",
            "Epoch 1/5\n",
            "240/240 [==============================] - 46s 190ms/step - loss: 0.8514 - accuracy: 0.8083 - val_loss: 0.7534 - val_accuracy: 0.8834\n",
            "Epoch 2/5\n",
            "240/240 [==============================] - 45s 186ms/step - loss: 0.7953 - accuracy: 0.8304 - val_loss: 0.6939 - val_accuracy: 0.8986\n",
            "Epoch 3/5\n",
            "240/240 [==============================] - 44s 183ms/step - loss: 0.7418 - accuracy: 0.8441 - val_loss: 0.6370 - val_accuracy: 0.9082\n",
            "Epoch 4/5\n",
            "240/240 [==============================] - 45s 187ms/step - loss: 0.6968 - accuracy: 0.8489 - val_loss: 0.5845 - val_accuracy: 0.9117\n",
            "Epoch 5/5\n",
            "240/240 [==============================] - 46s 191ms/step - loss: 0.6486 - accuracy: 0.8552 - val_loss: 0.5352 - val_accuracy: 0.9175\n",
            "Training time: 0:04:22.981225\n",
            "Test score: 0.5351712107658386\n",
            "Test accuracy: 0.9174937009811401\n"
          ]
        }
      ],
      "source": [
        "train_model(model,\n",
        "            (x_train_lt5, y_train_lt5),\n",
        "            (x_test_lt5, y_test_lt5), num_classes)"
      ],
      "id": "registered-venice"
    },
    {
      "cell_type": "markdown",
      "source": [
        "An observable difference between the one in the procedure and the one currently being trained, is that the validation accuracy has drastically increase. This could be due to the model already have data prior."
      ],
      "metadata": {
        "id": "K5oGVyIG0zeY"
      },
      "id": "K5oGVyIG0zeY"
    },
    {
      "cell_type": "code",
      "source": [
        "for l in feature_layers[:-1]:\n",
        "    l.trainable = False"
      ],
      "metadata": {
        "id": "mNKFax0JLUFJ"
      },
      "id": "mNKFax0JLUFJ",
      "execution_count": null,
      "outputs": []
    },
    {
      "cell_type": "code",
      "source": [
        "model.summary()"
      ],
      "metadata": {
        "colab": {
          "base_uri": "https://localhost:8080/"
        },
        "id": "mraqpMfEpXcA",
        "outputId": "038daa06-ceda-4b2b-bf00-3783accc2d6b"
      },
      "id": "mraqpMfEpXcA",
      "execution_count": null,
      "outputs": [
        {
          "output_type": "stream",
          "name": "stdout",
          "text": [
            "Model: \"sequential\"\n",
            "_________________________________________________________________\n",
            " Layer (type)                Output Shape              Param #   \n",
            "=================================================================\n",
            " conv2d (Conv2D)             (None, 26, 26, 32)        320       \n",
            "                                                                 \n",
            " activation (Activation)     (None, 26, 26, 32)        0         \n",
            "                                                                 \n",
            " conv2d_1 (Conv2D)           (None, 24, 24, 32)        9248      \n",
            "                                                                 \n",
            " activation_1 (Activation)   (None, 24, 24, 32)        0         \n",
            "                                                                 \n",
            " max_pooling2d (MaxPooling2  (None, 12, 12, 32)        0         \n",
            " D)                                                              \n",
            "                                                                 \n",
            " dropout (Dropout)           (None, 12, 12, 32)        0         \n",
            "                                                                 \n",
            " flatten (Flatten)           (None, 4608)              0         \n",
            "                                                                 \n",
            " dense (Dense)               (None, 128)               589952    \n",
            "                                                                 \n",
            " activation_2 (Activation)   (None, 128)               0         \n",
            "                                                                 \n",
            " dropout_1 (Dropout)         (None, 128)               0         \n",
            "                                                                 \n",
            " dense_1 (Dense)             (None, 5)                 645       \n",
            "                                                                 \n",
            " activation_3 (Activation)   (None, 5)                 0         \n",
            "                                                                 \n",
            "=================================================================\n",
            "Total params: 600165 (2.29 MB)\n",
            "Trainable params: 590597 (2.25 MB)\n",
            "Non-trainable params: 9568 (37.38 KB)\n",
            "_________________________________________________________________\n"
          ]
        }
      ]
    },
    {
      "cell_type": "code",
      "source": [
        "train_model(model,\n",
        "            (x_train_gte5, y_train_gte5),\n",
        "            (x_test_gte5, y_test_gte5), num_classes)"
      ],
      "metadata": {
        "colab": {
          "base_uri": "https://localhost:8080/"
        },
        "id": "5eCFTyem1GmB",
        "outputId": "1d3af923-8a43-47c7-f33d-1dc47b6766e6"
      },
      "id": "5eCFTyem1GmB",
      "execution_count": null,
      "outputs": [
        {
          "output_type": "stream",
          "name": "stdout",
          "text": [
            "x_train shape: (29404, 28, 28, 1)\n",
            "29404 train samples\n",
            "4861 test samples\n",
            "Epoch 1/5\n",
            "230/230 [==============================] - 17s 71ms/step - loss: 1.1427 - accuracy: 0.5580 - val_loss: 1.0231 - val_accuracy: 0.6416\n",
            "Epoch 2/5\n",
            "230/230 [==============================] - 16s 71ms/step - loss: 1.0797 - accuracy: 0.5969 - val_loss: 0.9669 - val_accuracy: 0.6852\n",
            "Epoch 3/5\n",
            "230/230 [==============================] - 16s 69ms/step - loss: 1.0350 - accuracy: 0.6235 - val_loss: 0.9215 - val_accuracy: 0.7161\n",
            "Epoch 4/5\n",
            "230/230 [==============================] - 16s 68ms/step - loss: 0.9894 - accuracy: 0.6562 - val_loss: 0.8822 - val_accuracy: 0.7402\n",
            "Epoch 5/5\n",
            "230/230 [==============================] - 16s 71ms/step - loss: 0.9547 - accuracy: 0.6761 - val_loss: 0.8471 - val_accuracy: 0.7603\n",
            "Training time: 0:01:22.704341\n",
            "Test score: 0.8470866084098816\n",
            "Test accuracy: 0.7603373527526855\n"
          ]
        }
      ]
    },
    {
      "cell_type": "markdown",
      "source": [
        "When comparing the results of the supplementary and procedure training of digits 5-9 we can see that there is already a learned results. This helps visualize the \"transfer\" of previous knowledge. This method helps us in improving the general performance of our model."
      ],
      "metadata": {
        "id": "clgNf6qBDL6F"
      },
      "id": "clgNf6qBDL6F"
    },
    {
      "cell_type": "markdown",
      "metadata": {
        "id": "cardiovascular-sapphire"
      },
      "source": [
        "#### Conclusion"
      ],
      "id": "cardiovascular-sapphire"
    },
    {
      "cell_type": "markdown",
      "source": [
        "Transfer learning takes advantage of previously trained layers/models and uses it on other data. This aids in the performance of the model, this is due to the model utilizing what it had previously learned and used it on the proceeding data. Overall this technique could be used when dealing with similar data as what was previously already learned by the model. This has also taught me of another way to improve the performance of the model."
      ],
      "metadata": {
        "id": "RtZss6drCZYw"
      },
      "id": "RtZss6drCZYw"
    }
  ],
  "metadata": {
    "colab": {
      "provenance": []
    },
    "kernelspec": {
      "display_name": "Python 3",
      "language": "python",
      "name": "python3"
    },
    "language_info": {
      "codemirror_mode": {
        "name": "ipython",
        "version": 3
      },
      "file_extension": ".py",
      "mimetype": "text/x-python",
      "name": "python",
      "nbconvert_exporter": "python",
      "pygments_lexer": "ipython3",
      "version": "3.7.10"
    }
  },
  "nbformat": 4,
  "nbformat_minor": 5
}